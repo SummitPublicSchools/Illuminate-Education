{
 "cells": [
  {
   "cell_type": "markdown",
   "metadata": {},
   "source": [
    "\n",
    "\n",
    "1. Pull all current sections enrollments that should be graded\n",
    "2. Join with Platform Letter Grades\n",
    "3. Convert letter grades to P/NP\n",
    "4. Export CSV for SL review\n",
    "5. Export TXT for student_grades import"
   ]
  },
  {
   "cell_type": "code",
   "execution_count": 2,
   "metadata": {
    "collapsed": true
   },
   "outputs": [],
   "source": [
    "import pandas as pd\n",
    "import numpy as np\n",
    "from pandas import ExcelWriter\n",
    "\n",
    "from sps_automation import legacy as sps\n",
    "\n",
    "conf = sps.load_config('./config/config.ini')"
   ]
  },
  {
   "cell_type": "code",
   "execution_count": 3,
   "metadata": {
    "collapsed": true
   },
   "outputs": [],
   "source": [
    "# create a database connection object for CA database\n",
    "#db_ca = sps.connect_to_ca_illuminate_db()\n",
    "db_wa = sps.connect_to_wa_illuminate_db()"
   ]
  },
  {
   "cell_type": "code",
   "execution_count": 4,
   "metadata": {
    "collapsed": true
   },
   "outputs": [],
   "source": [
    "# query the Illuminate database to pull all \"gradable\" enrollments.\n",
    "query = \"\"\"\n",
    "SELECT\n",
    "  local_student_id || ' ' ||\n",
    "    CASE WHEN right(school_course_id,1) = 'M' THEN left(school_course_id,length(school_course_id)-1) ELSE school_course_id END AS stu_crs_lookup\n",
    "  , sites.site_name\n",
    "  , students.local_student_id\n",
    "  , students.last_name\n",
    "  , students.first_name\n",
    "  , (sterma.grade_level_id - 1) as current_grade_level\n",
    "  , ssa.section_id\n",
    "  , sections.local_section_id\n",
    "  , departments.department_name\n",
    "  , courses.school_course_id\n",
    "  , courses.short_name\n",
    "  , courses.variable_credits_high AS max_credits\n",
    "  , users.last_name || ', ' || users.first_name AS teacher\n",
    "  , sites.site_id\n",
    "\n",
    "FROM\n",
    "  matviews.student_term_aff AS sterma\n",
    "\n",
    "LEFT JOIN (SELECT * FROM terms WHERE terms.start_date >= '2017-08-15' AND terms.end_date <= '2018-06-22' AND terms.term_name = 'Year') AS sy18terms on sterma.term_id = sy18terms.term_id\n",
    "LEFT JOIN (SELECT * FROM student_session_aff WHERE (student_session_aff.leave_date IS NULL OR student_session_aff.leave_date BETWEEN '2018-05-15' AND '2018-06-23')) AS ssessa ON ssessa.student_id = sterma.student_id\n",
    "LEFT JOIN (SELECT * FROM sessions WHERE sessions.academic_year = 2018 AND sessions.session_type_id = 1) AS sy18sess ON ssessa.session_id = sy18sess.session_id\n",
    "LEFT JOIN sites on sy18sess.site_id = sites.site_id\n",
    "LEFT JOIN students on sterma.student_id = students.student_id\n",
    "LEFT JOIN (SELECT * FROM section_student_aff WHERE entry_date >= '2017-08-15' AND (leave_date IS NULL or leave_date > '2018-05-15')) AS ssa on ssa.student_id  = sterma.student_id\n",
    "LEFT JOIN sections on ssa.section_id = sections.section_id\n",
    "LEFT JOIN courses on ssa.course_id = courses.course_id\n",
    "LEFT JOIN departments on courses.department_id = departments.department_id\n",
    "LEFT JOIN section_teacher_aff sta on sta.section_id = ssa.section_id\n",
    "LEFT JOIN users on sta.user_id = users.user_id\n",
    "\n",
    "WHERE\n",
    "  courses.transcript_inclusion IS NOT FALSE\n",
    "  AND courses.is_active IS TRUE\n",
    "  AND courses.variable_credits_high  >= 0.5\n",
    "  AND (sterma.leave_date > '2018-05-20' OR sterma.leave_date IS NULL)\n",
    "  AND sterma.entry_date < '2018-05-20'\n",
    "  AND sta.primary_teacher IS TRUE\n",
    "  AND (sta.end_date > '2018-06-01' OR sta.end_date IS NULL)\n",
    "  AND sy18sess.site_id NOT IN (9999999,9999998,9999997)\n",
    "\n",
    "--   AND students.local_student_id = '20916'\n",
    "\n",
    "GROUP BY\n",
    "  sites.site_name\n",
    "  , students.local_student_id\n",
    "  , students.last_name\n",
    "  , students.first_name\n",
    "  , sterma.grade_level_id\n",
    "  , ssa.section_id\n",
    "  , sections.local_section_id\n",
    "  , departments.department_name\n",
    "  , courses.school_course_id\n",
    "  , courses.short_name\n",
    "  , ssa.entry_date\n",
    "  , ssa.leave_date\n",
    "  , courses.variable_credits_high\n",
    "  , users.last_name\n",
    "  , users.first_name\n",
    "  , sites.site_id\n",
    "\n",
    "ORDER BY\n",
    "  site_name\n",
    "  , sterma.grade_level_id\n",
    "  , last_name\n",
    "  , first_name\n",
    "  , school_course_id\n",
    "\"\"\""
   ]
  },
  {
   "cell_type": "code",
   "execution_count": 5,
   "metadata": {},
   "outputs": [
    {
     "data": {
      "text/plain": [
       "(6750, 14)"
      ]
     },
     "execution_count": 5,
     "metadata": {},
     "output_type": "execute_result"
    }
   ],
   "source": [
    "#Load query results as \"gradable sections\"\n",
    "#gs_ca = pd.read_sql(query,db_ca['connection'])\n",
    "gs_wa = pd.read_sql(query,db_wa['connection'])\n",
    "\n",
    "\n",
    "#make sure 'local_student_id' is INT\n",
    "#gs_ca['local_student_id'] = pd.to_numeric(gs_ca['local_student_id'])\n",
    "gs_wa['local_student_id'] = pd.to_numeric(gs_wa['local_student_id'])\n",
    "\n",
    "#gs_ca.shape\n",
    "gs_wa.shape"
   ]
  },
  {
   "cell_type": "code",
   "execution_count": 6,
   "metadata": {},
   "outputs": [
    {
     "data": {
      "text/plain": [
       "(3824, 14)"
      ]
     },
     "execution_count": 6,
     "metadata": {},
     "output_type": "execute_result"
    }
   ],
   "source": [
    "#gs_all = pd.concat ([gs_ca,gs_wa])\n",
    "gs_nodups = gs_wa.drop_duplicates(subset = 'stu_crs_lookup', keep = 'last')\n",
    "\n",
    "\n",
    "gs_nodups.head(10)\n",
    "\n",
    "#export csv\n",
    "gs_nodups.to_csv('../data/Outputs/wa_gradable_sections.csv')\n",
    "\n",
    "gs_nodups.shape"
   ]
  },
  {
   "cell_type": "code",
   "execution_count": 7,
   "metadata": {
    "scrolled": true
   },
   "outputs": [
    {
     "name": "stderr",
     "output_type": "stream",
     "text": [
      "C:\\Users\\Bobby Cupp\\Anaconda3\\envs\\summit\\lib\\site-packages\\ipykernel\\__main__.py:18: SettingWithCopyWarning: \n",
      "A value is trying to be set on a copy of a slice from a DataFrame.\n",
      "Try using .loc[row_indexer,col_indexer] = value instead\n",
      "\n",
      "See the caveats in the documentation: http://pandas.pydata.org/pandas-docs/stable/indexing.html#indexing-view-versus-copy\n"
     ]
    },
    {
     "data": {
      "text/plain": [
       "(3824, 20)"
      ]
     },
     "execution_count": 7,
     "metadata": {},
     "output_type": "execute_result"
    }
   ],
   "source": [
    "#TODO: Read in the platform grades CSV to a dataframe called pl_grades and \n",
    "\n",
    "pl_dump = pd.read_csv('../data/Inputs/wa_platformgrades.csv', encoding='latin-1')\n",
    "\n",
    "#drop duplicate records\n",
    "pl_nodups = pl_dump.drop_duplicates(subset = 'stu_crs_lookup', keep = 'last')\n",
    "\n",
    "#create a \"is_failing\" flag\n",
    "fail_grades = ['I','F','NP']\n",
    "\n",
    "def is_failing(corrected_grade):\n",
    "    if corrected_grade in fail_grades:\n",
    "        return True\n",
    "    else: \n",
    "        return False\n",
    "\n",
    "    \n",
    "pl_nodups['is_failing?'] = pl_nodups['corrected_grade'].apply(is_failing)\n",
    "\n",
    "#merge queried sections with platform courses\n",
    "\n",
    "merged_grades = pd.merge(gs_nodups[['stu_crs_lookup','site_name','local_student_id','last_name','first_name','current_grade_level','section_id','local_section_id','department_name','school_course_id','short_name','max_credits','teacher','site_id']], \n",
    "                         pl_nodups[['stu_crs_lookup','grade_type','LETTER_GRADE','corrected_grade','is_failing?','inc_reason','date_of_pull']], on = 'stu_crs_lookup', how = 'left', suffixes=('_ill','_pltfrm'))\n",
    "\n",
    "merged_grades.shape\n",
    "\n"
   ]
  },
  {
   "cell_type": "code",
   "execution_count": 8,
   "metadata": {},
   "outputs": [
    {
     "data": {
      "text/plain": [
       "(3824, 20)"
      ]
     },
     "execution_count": 8,
     "metadata": {},
     "output_type": "execute_result"
    }
   ],
   "source": [
    "#export csv\n",
    "merged_grades.to_csv('../data/Outputs/wa_merged_grades_export.csv')\n",
    "\n",
    "#assert gs_nodups.shape[1] == merged_grades.shape[1]\n",
    "\n",
    "merged_grades.shape"
   ]
  },
  {
   "cell_type": "code",
   "execution_count": null,
   "metadata": {},
   "outputs": [],
   "source": [
    "# Create a simplified dataframe for viewing \n",
    "\n",
    "simple_df = merged_grades[['site_name','local_student_id','last_name','first_name','current_grade_level','department_name','school_course_id','short_name','teacher','date_of_pull']]\n",
    "\n",
    "simple_pltfm = simple_df\n",
    "simple_pltfm['LETTER_GRADE'] = merged_grades.LETTER_GRADE\n",
    "simple_pltfm['corrected_grade'] = merged_grades.corrected_grade\n",
    "simple_pltfm['Inc Reason'] = merged_grades.inc_reason\n",
    "simple_pltfm['stu_crs_lookup'] = merged_grades.stu_crs_lookup\n",
    "\n",
    "#export csv\n",
    "simple_pltfm.to_csv('../data/Outputs/wa_simple_pltfm.csv')\n",
    "\n",
    "simple_pltfm.head(10)"
   ]
  },
  {
   "cell_type": "code",
   "execution_count": null,
   "metadata": {},
   "outputs": [],
   "source": [
    "# Generate a list of stu/sections without a platform grade\n",
    "\n",
    "ungraded_sects = simple_df[pd.isnull(merged_grades.LETTER_GRADE)]\n",
    "\n",
    "ungraded_sects.sort_values(['teacher','site_name','school_course_id'], ascending=[True,True,True])\n",
    "\n",
    "#export csv\n",
    "ungraded_sects.to_csv('../data/Outputs/wa_ungraded_sections.csv')\n",
    "\n",
    "ungraded_sects.shape"
   ]
  },
  {
   "cell_type": "code",
   "execution_count": null,
   "metadata": {
    "collapsed": true
   },
   "outputs": [],
   "source": [
    "# Generate a list of SENIOR stu/sections with I/F Grades\n",
    "\n",
    "#senior_fails = simple_pltfm[(simple_pltfm.LETTER_GRADE == 'I') & (simple_pltfm.current_grade_level == 12) & (simple_df.local_student_id != 40477)]\n",
    "\n",
    "#senior_fails.sort_values(['site_name','local_student_id'], ascending=[True,True])\n",
    "\n",
    "\n",
    "#export csv\n",
    "#senior_fails.to_csv('../data/Outputs/wa_senior_fails.csv')\n",
    "\n",
    "#senior_fails.shape"
   ]
  },
  {
   "cell_type": "code",
   "execution_count": null,
   "metadata": {
    "scrolled": true
   },
   "outputs": [],
   "source": [
    "# Generate a student_grades.txt file for import to Illuminate\n",
    "\n",
    "student_grades_pieces = merged_grades[['local_student_id','site_id','local_section_id','school_course_id', 'current_grade_level','corrected_grade','max_credits','is_failing?']]\n",
    "\n",
    "student_grades_pieces['grading_period_name'] = 'Final Grades'\n",
    "student_grades_pieces['academic_year'] = '2018'\n",
    "student_grades_pieces['credits_received'] = np.where(student_grades_pieces['is_failing?'] == True, 0, student_grades_pieces.max_credits)\n",
    "student_grades_pieces['is_final?'] = 1\n",
    "student_grades_pieces['is_repeat?'] = 0\n",
    "student_grades_pieces['session_type_id'] = 1\n",
    "\n",
    "student_grades_txt = student_grades_pieces[['local_student_id','site_id','grading_period_name','academic_year','local_section_id','school_course_id','corrected_grade','max_credits','credits_received','is_final?','is_repeat?','session_type_id']]\n",
    "student_grades_txt.head(10)\n",
    "\n",
    "#export csv\n",
    "student_grades_txt.to_csv('../data/Outputs/wa_student_grades.csv')\n",
    "\n",
    "student_grades_txt.head(10)"
   ]
  },
  {
   "cell_type": "markdown",
   "metadata": {},
   "source": [
    "# This part is for after you have imported all grades - generate lists for school review/auditing."
   ]
  },
  {
   "cell_type": "code",
   "execution_count": 9,
   "metadata": {
    "collapsed": true
   },
   "outputs": [],
   "source": [
    "# Generate a list of all Final Grades for this year.\n",
    "query_final = \"\"\"\n",
    "SELECT\n",
    "  local_student_id || ' ' ||\n",
    "    CASE WHEN right(school_course_id,1) = 'M' THEN left(school_course_id,length(school_course_id)-1) ELSE school_course_id END AS stu_crs_lookup\n",
    "  , sites.site_name\n",
    "  , sites.site_id\n",
    "  , students.local_student_id\n",
    "  , students.last_name || ', ' || students.first_name AS name\n",
    "  , (sterma.grade_level_id - 1) as current_grade_level\n",
    "  , ssa.section_id\n",
    "  , courses.school_course_id\n",
    "  , courses.short_name\n",
    "  , departments.department_name\n",
    "  , users.last_name || ', ' || users.first_name AS teacher\n",
    "  , grades.grade\n",
    "  , sg.credits_received\n",
    "  , sg.credits_possible\n",
    "\n",
    "FROM\n",
    "  matviews.student_term_aff AS sterma\n",
    "\n",
    "LEFT JOIN (SELECT * FROM terms WHERE terms.start_date = '2017-08-22' AND terms.term_name = 'Year') AS sy18terms on sterma.term_id = sy18terms.term_id\n",
    "LEFT JOIN (SELECT * FROM student_session_aff WHERE student_session_aff.leave_date BETWEEN '2018-05-15' AND '2018-06-20') AS ssessa ON ssessa.student_id = sterma.student_id\n",
    "LEFT JOIN (SELECT * FROM sessions WHERE sessions.academic_year = 2018 AND sessions.session_type_id = 1) AS sy18sess ON ssessa.session_id = sy18sess.session_id\n",
    "LEFT JOIN sites on sy18sess.site_id = sites.site_id\n",
    "LEFT JOIN students on sterma.student_id = students.student_id\n",
    "LEFT JOIN (SELECT * FROM section_student_aff WHERE entry_date >= '2017-08-22' AND (leave_date IS NULL or leave_date > '2018-05-15')) AS ssa on ssa.student_id  = sterma.student_id\n",
    "LEFT JOIN sections on ssa.section_id = sections.section_id\n",
    "LEFT JOIN courses on ssa.course_id = courses.course_id\n",
    "LEFT JOIN departments on courses.department_id = departments.department_id\n",
    "LEFT JOIN section_teacher_aff sta on sta.section_id = ssa.section_id\n",
    "LEFT JOIN users on sta.user_id = users.user_id\n",
    "LEFT JOIN section_grading_period_aff sgpa on sections.section_id = sgpa.section_id\n",
    "LEFT JOIN student_grades sg on sgpa.sgpa_id = sg.sgpa_id AND sg.student_id = students.student_id\n",
    "LEFT JOIN grades on grades.grade_id = sg.grade_id\n",
    "\n",
    "WHERE\n",
    "  courses.transcript_inclusion IS NOT FALSE\n",
    "  AND courses.is_active IS TRUE\n",
    "  AND courses.variable_credits_high  >= 0.5\n",
    "  AND sterma.entry_date BETWEEN '2017-08-22' AND '2018-05-20'\n",
    "  AND sta.primary_teacher IS TRUE\n",
    "  AND (sta.end_date > '2018-06-01' OR sta.end_date IS NULL)\n",
    "\n",
    "  AND grades.grade IS NOT NULL\n",
    "  AND sg.is_final IS TRUE\n",
    "\n",
    "--   AND students.local_student_id = '20916'\n",
    "\n",
    "GROUP BY\n",
    "sites.site_name\n",
    "  , sites.site_id\n",
    "  , students.local_student_id\n",
    "  , students.last_name\n",
    "  , students.first_name\n",
    "  , sterma.grade_level_id\n",
    "  , ssa.section_id\n",
    "  , courses.school_course_id\n",
    "  , courses.short_name\n",
    "  , departments.department_name\n",
    "  , users.last_name\n",
    "  , users.first_name\n",
    "  , grades.grade\n",
    "  , sg.credits_received\n",
    "  , sg.credits_possible\n",
    "\n",
    "ORDER BY\n",
    "  sites.site_id\n",
    "  , sterma.grade_level_id\n",
    "  , current_grade_level\n",
    "  , name\n",
    "  , school_course_id\n",
    "\"\"\""
   ]
  },
  {
   "cell_type": "code",
   "execution_count": 10,
   "metadata": {
    "collapsed": true
   },
   "outputs": [],
   "source": [
    "#Load query results as \"posted_grades\"\n",
    "#pgraw_ca = pd.read_sql(query_final,db_ca['connection'])\n",
    "pgraw_wa = pd.read_sql(query_final,db_wa['connection'])\n",
    "\n",
    "\n",
    "#make sure 'local_student_id' is INT\n",
    "#pgraw_ca['local_student_id'] = pd.to_numeric(pgraw_ca['local_student_id'])\n",
    "pgraw_wa['local_student_id'] = pd.to_numeric(pgraw_wa['local_student_id'])\n",
    "\n",
    "#remove duplicates\n",
    "pg_wa = pgraw_wa.drop_duplicates(subset = 'stu_crs_lookup', keep = 'last')\n",
    "pg_wa = pg_wa[pg_wa.columns[1:]]\n",
    "pg_wa.head(5)\n",
    "#pg_wa.shape\n",
    "\n",
    "#export all to csv\n",
    "pg_wa.to_csv('../data/Outputs/wa_postedgrades.csv')\n",
    "\n"
   ]
  },
  {
   "cell_type": "code",
   "execution_count": 11,
   "metadata": {
    "collapsed": true
   },
   "outputs": [],
   "source": [
    "#export all to csv\n",
    "pg_wa.to_csv('../data/Outputs/wa_postedgrades.csv')"
   ]
  },
  {
   "cell_type": "code",
   "execution_count": null,
   "metadata": {
    "collapsed": true
   },
   "outputs": [],
   "source": [
    "#Sierra Grades\n",
    "si_index = pg_wa['site_id'] == 11\n",
    "pg_si = pg_wa[si_index]\n",
    "inc_si_index = pg_si['grade'].isin(['F','I','NP'])\n",
    "inc_si = pg_si[inc_si_index]\n",
    "\n",
    "grades_by_gl_si = pg_si.pivot_table(index='current_grade_level',\n",
    "                                      columns='grade',\n",
    "                                      values='local_student_id',\n",
    "                                      aggfunc='count',\n",
    "                                      margins=True)\n",
    "grades_by_gl_si = grades_by_gl_si.fillna(0).astype(int)\n",
    "\n",
    "grades_by_course_si = pg_si.pivot_table(index=['department_name','short_name'],\n",
    "                                      columns='grade',\n",
    "                                      values='local_student_id',\n",
    "                                      aggfunc='count',\n",
    "                                      margins=True)\n",
    "grades_by_course_si = grades_by_course_si.fillna(0).astype(int)\n",
    "\n",
    "#export to Excel\n",
    "writer = ExcelWriter('../data/Outputs/posted_grades/final_grades_sy18_sierra.xlsx')\n",
    "pg_si.to_excel(writer,'all grades',index=False)\n",
    "inc_si.to_excel(writer,'incompletes',index=False)\n",
    "grades_by_gl_si.to_excel(writer,'grades by grade level')\n",
    "grades_by_course_si.to_excel(writer,'grades by course')\n",
    "writer.save()"
   ]
  },
  {
   "cell_type": "code",
   "execution_count": null,
   "metadata": {
    "collapsed": true
   },
   "outputs": [],
   "source": [
    "#Olympus Grades\n",
    "ol_index = pg_wa['site_id'] == 12\n",
    "pg_ol = pg_wa[ol_index]\n",
    "inc_ol_index = pg_ol['grade'].isin(['F','I','NP'])\n",
    "inc_ol = pg_ol[inc_ol_index]\n",
    "\n",
    "grades_by_gl_ol = pg_ol.pivot_table(index='current_grade_level',\n",
    "                                      columns='grade',\n",
    "                                      values='local_student_id',\n",
    "                                      aggfunc='count',\n",
    "                                      margins=True)\n",
    "grades_by_gl_ol = grades_by_gl_ol.fillna(0).astype(int)\n",
    "\n",
    "grades_by_course_ol = pg_ol.pivot_table(index=['department_name','short_name'],\n",
    "                                      columns='grade',\n",
    "                                      values='local_student_id',\n",
    "                                      aggfunc='count',\n",
    "                                      margins=True)\n",
    "grades_by_course_ol = grades_by_course_ol.fillna(0).astype(int)\n",
    "\n",
    "#export to Excel\n",
    "writer = ExcelWriter('../data/Outputs/posted_grades/final_grades_sy18_olympus.xlsx')\n",
    "pg_ol.to_excel(writer,'all grades',index=False)\n",
    "inc_ol.to_excel(writer,'incompletes',index=False)\n",
    "grades_by_gl_ol.to_excel(writer,'grades by grade level')\n",
    "grades_by_course_ol.to_excel(writer,'grades by course')\n",
    "writer.save()"
   ]
  },
  {
   "cell_type": "code",
   "execution_count": null,
   "metadata": {
    "collapsed": true
   },
   "outputs": [],
   "source": [
    "\n",
    "#Atlas Grades\n",
    "at_index = pg_wa['site_id'] == 13\n",
    "pg_at = pg_wa[at_index]\n",
    "inc_at_index = pg_at['grade'].isin(['F','I','NP'])\n",
    "inc_at = pg_at[inc_at_index]\n",
    "\n",
    "grades_by_gl_at = pg_at.pivot_table(index='current_grade_level',\n",
    "                                      columns='grade',\n",
    "                                      values='local_student_id',\n",
    "                                      aggfunc='count',\n",
    "                                      margins=True)\n",
    "grades_by_gl_at = grades_by_gl_at.fillna(0).astype(int)\n",
    "\n",
    "grades_by_course_at = pg_at.pivot_table(index=['department_name','short_name'],\n",
    "                                      columns='grade',\n",
    "                                      values='local_student_id',\n",
    "                                      aggfunc='count',\n",
    "                                      margins=True)\n",
    "grades_by_course_at = grades_by_course_at.fillna(0).astype(int)\n",
    "\n",
    "#export to Excel\n",
    "writer = ExcelWriter('../data/Outputs/posted_grades/final_grades_sy18_atlas.xlsx')\n",
    "pg_at.to_excel(writer,'all grades',index=False)\n",
    "inc_at.to_excel(writer,'incompletes',index=False)\n",
    "grades_by_gl_at.to_excel(writer,'grades by grade level')\n",
    "grades_by_course_at.to_excel(writer,'grades by course')\n",
    "writer.save()"
   ]
  }
 ],
 "metadata": {
  "anaconda-cloud": {},
  "kernelspec": {
   "display_name": "Python [conda env:summit]",
   "language": "python",
   "name": "conda-env-summit-py"
  },
  "language_info": {
   "codemirror_mode": {
    "name": "ipython",
    "version": 3
   },
   "file_extension": ".py",
   "mimetype": "text/x-python",
   "name": "python",
   "nbconvert_exporter": "python",
   "pygments_lexer": "ipython3",
   "version": "3.6.1"
  }
 },
 "nbformat": 4,
 "nbformat_minor": 2
}
