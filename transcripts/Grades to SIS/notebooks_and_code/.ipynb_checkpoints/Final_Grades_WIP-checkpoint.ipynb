{
 "cells": [
  {
   "cell_type": "markdown",
   "metadata": {},
   "source": [
    "\n",
    "\n",
    "1. Pull all current sections enrollments that should be graded\n",
    "2. Join with Platform Letter Grades\n",
    "3. Convert letter grades to P/NP\n",
    "4. Export CSV for SL review\n",
    "5. Export TXT for student_grades import"
   ]
  },
  {
   "cell_type": "code",
   "execution_count": 2,
   "metadata": {},
   "outputs": [],
   "source": [
    "import pandas as pd\n",
    "\n",
    "from sps_automation import legacy as sps\n",
    "\n",
    "conf = sps.load_config('./config/config.ini')"
   ]
  },
  {
   "cell_type": "code",
   "execution_count": 3,
   "metadata": {},
   "outputs": [],
   "source": [
    "# create a database connection object for CA database\n",
    "db_ca = sps.connect_to_ca_illuminate_db()\n",
    "\n",
    "# TODO: create a database connection object for WA database\n",
    "db_wa = sps.connect_to_wa_illuminate_db()"
   ]
  },
  {
   "cell_type": "code",
   "execution_count": 4,
   "metadata": {
    "collapsed": true
   },
   "outputs": [],
   "source": [
    "# query the CA database to pull all \"gradable\" enrollments.\n",
    "query = \"\"\"\n",
    "SELECT\n",
    "  local_student_id || ' ' || school_course_id AS stu_crs_lookup\n",
    "  , sites.site_name\n",
    "  , students.local_student_id\n",
    "  , students.last_name\n",
    "  , students.first_name\n",
    "  , (matviews.ss_current.grade_level_id - 1) as current_grade_level\n",
    "  , ssa.section_id\n",
    "  , sections.local_section_id\n",
    "  , departments.department_name\n",
    "  , courses.school_course_id\n",
    "  , courses.short_name\n",
    "  , courses.variable_credits_high AS max_credits\n",
    "  , date_part('days',CASE WHEN ssa.leave_date IS NULL THEN now() ELSE ssa.leave_date END - ssa.entry_date) AS days_enrolled\n",
    "  , date_part('days',CASE WHEN ssa.leave_date IS NULL THEN now() ELSE ssa.leave_date END - ssa.entry_date) < 220 AS short_enrollment\n",
    "\n",
    "FROM\n",
    "  matviews.ss_current\n",
    "\n",
    "LEFT JOIN section_student_aff as ssa on ssa.student_id = matviews.ss_current.student_id\n",
    "LEFT JOIN students on ssa.student_id = students.student_id\n",
    "LEFT JOIN sections ON ssa.section_id = sections.section_id\n",
    "LEFT JOIN courses ON ssa.course_id = courses.course_id\n",
    "LEFT JOIN sites on matviews.ss_current.site_id = sites.site_id\n",
    "LEFT JOIN departments on courses.department_id = departments.department_id\n",
    "\n",
    "WHERE\n",
    "  matviews.ss_current.site_id NOT IN (9999998,9999999) AND\n",
    "  courses.transcript_inclusion IS NOT FALSE AND\n",
    "  courses.is_active IS TRUE AND\n",
    "  courses.variable_credits_high  >= 0.5 AND\n",
    "  (ssa.leave_date > now() OR ssa.leave_date IS NULL) AND\n",
    "  ssa.entry_date > '2017-08-01'\n",
    "\n",
    "GROUP BY\n",
    "  sites.site_name\n",
    "  , students.local_student_id\n",
    "  , students.last_name\n",
    "  , students.first_name\n",
    "  , matviews.ss_current.grade_level_id\n",
    "  , ssa.section_id\n",
    "  , sections.local_section_id\n",
    "  , departments.department_name\n",
    "  , courses.school_course_id\n",
    "  , courses.short_name\n",
    "  , ssa.entry_date\n",
    "  , ssa.leave_date\n",
    "  , courses.variable_credits_high\n",
    "\n",
    "ORDER BY\n",
    "  site_name\n",
    "  , grade_level_id\n",
    "  , last_name\n",
    "  , first_name\n",
    "  , school_course_id\n",
    "\"\"\""
   ]
  },
  {
   "cell_type": "code",
   "execution_count": 5,
   "metadata": {},
   "outputs": [],
   "source": [
    "#Load query results as \"gradable sections\"\n",
    "gs_ca = pd.read_sql(query,db_ca['connection'])\n",
    "gs_wa = pd.read_sql(query,db_wa['connection'])\n",
    "\n",
    "#make sure 'local_student_id' is INT\n",
    "gs_ca['local_student_id'] = pd.to_numeric(gs_ca['local_student_id'])\n",
    "gs_wa['local_student_id'] = pd.to_numeric(gs_wa['local_student_id'])"
   ]
  },
  {
   "cell_type": "code",
   "execution_count": 31,
   "metadata": {},
   "outputs": [],
   "source": [
    "#join CA and WA into a single df\n",
    "gs_all = pd.concat ([gs_ca,gs_wa])\n",
    "\n",
    "#export to CSV\n",
    "gs_all.to_csv('../data/graded_sections_export.csv')"
   ]
  },
  {
   "cell_type": "code",
   "execution_count": 10,
   "metadata": {},
   "outputs": [],
   "source": [
    "# assert that we have the same number of rows after combining as before - Note that shape[0]\n",
    "#  gives us the first number that shape holds - the rows\n",
    "assert gs_all.shape[0] == gs_ca.shape[0] + gs_wa.shape[0]\n",
    "\n",
    "#assert that we have the same number of columns after combining as before\n",
    "assert gs_all.shape[1] == gs_ca.shape[1] \n",
    "assert gs_all.shape[1] == gs_wa.shape[1]"
   ]
  },
  {
   "cell_type": "code",
   "execution_count": 28,
   "metadata": {},
   "outputs": [],
   "source": [
    "#TODO: Read in the platform grades CSV to a dataframe called pl_grades and \n",
    "\n",
    "pl_dump = pd.read_csv('../data/platformgrades.csv')\n",
    "\n",
    "#create a lookup index by combining local id with course ID. Should match first column of queried sections\n",
    "pl_dump['stu_crs_lookup'] = pl_dump['STUDENT_ID'].map(str) + ' ' + pl_dump['COURSE_NUMBER']\n",
    "\n",
    "#drop duplicate records\n",
    "pl_nodups = pl_dump.drop_duplicates()\n",
    "\n",
    "#merge queried sections with platform courses\n",
    "\n",
    "merged_grades = pd.merge(gs_all, pl_nodups, on = 'stu_crs_lookup', how = 'left',suffixes=('_ill','_pltfrm'))"
   ]
  },
  {
   "cell_type": "code",
   "execution_count": 30,
   "metadata": {},
   "outputs": [],
   "source": [
    "#export csv\n",
    "merged_grades.to_csv('../data/merged_grades_export.csv')\n",
    "\n",
    "#assert gs_all.shape[1] == merged_grades.shape[1]"
   ]
  },
  {
   "cell_type": "code",
   "execution_count": null,
   "metadata": {
    "collapsed": true
   },
   "outputs": [],
   "source": []
  }
 ],
 "metadata": {
  "anaconda-cloud": {},
  "kernelspec": {
   "display_name": "Python [conda env:summit]",
   "language": "python",
   "name": "conda-env-summit-py"
  }
 },
 "nbformat": 4,
 "nbformat_minor": 2
}
